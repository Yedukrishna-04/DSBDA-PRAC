{
 "cells": [
  {
   "cell_type": "code",
   "execution_count": 20,
   "id": "b12dbc33",
   "metadata": {},
   "outputs": [
    {
     "data": {
      "text/html": [
       "<div>\n",
       "<style scoped>\n",
       "    .dataframe tbody tr th:only-of-type {\n",
       "        vertical-align: middle;\n",
       "    }\n",
       "\n",
       "    .dataframe tbody tr th {\n",
       "        vertical-align: top;\n",
       "    }\n",
       "\n",
       "    .dataframe thead th {\n",
       "        text-align: right;\n",
       "    }\n",
       "</style>\n",
       "<table border=\"1\" class=\"dataframe\">\n",
       "  <thead>\n",
       "    <tr style=\"text-align: right;\">\n",
       "      <th></th>\n",
       "      <th>Store</th>\n",
       "      <th>Date</th>\n",
       "      <th>Weekly_Sales</th>\n",
       "      <th>Holiday_Flag</th>\n",
       "      <th>Temperature</th>\n",
       "      <th>Fuel_Price</th>\n",
       "      <th>CPI</th>\n",
       "      <th>Unemployment</th>\n",
       "    </tr>\n",
       "  </thead>\n",
       "  <tbody>\n",
       "    <tr>\n",
       "      <th>0</th>\n",
       "      <td>1</td>\n",
       "      <td>05-02-2010</td>\n",
       "      <td>1643690.90</td>\n",
       "      <td>0</td>\n",
       "      <td>42.31</td>\n",
       "      <td>2.572</td>\n",
       "      <td>211.096358</td>\n",
       "      <td>8.106</td>\n",
       "    </tr>\n",
       "    <tr>\n",
       "      <th>1</th>\n",
       "      <td>1</td>\n",
       "      <td>12-02-2010</td>\n",
       "      <td>1641957.44</td>\n",
       "      <td>1</td>\n",
       "      <td>38.51</td>\n",
       "      <td>2.548</td>\n",
       "      <td>211.242170</td>\n",
       "      <td>8.106</td>\n",
       "    </tr>\n",
       "    <tr>\n",
       "      <th>2</th>\n",
       "      <td>1</td>\n",
       "      <td>19-02-2010</td>\n",
       "      <td>1611968.17</td>\n",
       "      <td>0</td>\n",
       "      <td>39.93</td>\n",
       "      <td>2.514</td>\n",
       "      <td>211.289143</td>\n",
       "      <td>8.106</td>\n",
       "    </tr>\n",
       "    <tr>\n",
       "      <th>3</th>\n",
       "      <td>1</td>\n",
       "      <td>26-02-2010</td>\n",
       "      <td>1409727.59</td>\n",
       "      <td>0</td>\n",
       "      <td>46.63</td>\n",
       "      <td>2.561</td>\n",
       "      <td>211.319643</td>\n",
       "      <td>8.106</td>\n",
       "    </tr>\n",
       "    <tr>\n",
       "      <th>4</th>\n",
       "      <td>1</td>\n",
       "      <td>05-03-2010</td>\n",
       "      <td>1554806.68</td>\n",
       "      <td>0</td>\n",
       "      <td>46.50</td>\n",
       "      <td>2.625</td>\n",
       "      <td>211.350143</td>\n",
       "      <td>8.106</td>\n",
       "    </tr>\n",
       "  </tbody>\n",
       "</table>\n",
       "</div>"
      ],
      "text/plain": [
       "   Store        Date  Weekly_Sales  Holiday_Flag  Temperature  Fuel_Price  \\\n",
       "0      1  05-02-2010    1643690.90             0        42.31       2.572   \n",
       "1      1  12-02-2010    1641957.44             1        38.51       2.548   \n",
       "2      1  19-02-2010    1611968.17             0        39.93       2.514   \n",
       "3      1  26-02-2010    1409727.59             0        46.63       2.561   \n",
       "4      1  05-03-2010    1554806.68             0        46.50       2.625   \n",
       "\n",
       "          CPI  Unemployment  \n",
       "0  211.096358         8.106  \n",
       "1  211.242170         8.106  \n",
       "2  211.289143         8.106  \n",
       "3  211.319643         8.106  \n",
       "4  211.350143         8.106  "
      ]
     },
     "execution_count": 20,
     "metadata": {},
     "output_type": "execute_result"
    }
   ],
   "source": [
    "#import python library\n",
    "import pandas as pd;\n",
    "import numpy as np;\n",
    "\n",
    "#loading dataset into pandas framework\n",
    "df = pd.read_csv(\"/home/student/23227 DSBDAL/PRACTICAL 1/archive/Walmart_Sales.csv\")\n",
    "df.head()\n",
    "\n"
   ]
  },
  {
   "cell_type": "code",
   "execution_count": 21,
   "id": "8d10fc37",
   "metadata": {},
   "outputs": [
    {
     "name": "stdout",
     "output_type": "stream",
     "text": [
      "Missing Values\n",
      "Store           0\n",
      "Date            0\n",
      "Weekly_Sales    0\n",
      "Holiday_Flag    0\n",
      "Temperature     0\n",
      "Fuel_Price      0\n",
      "CPI             0\n",
      "Unemployment    0\n",
      "dtype: int64\n"
     ]
    },
    {
     "data": {
      "text/plain": [
       "Store           False\n",
       "Date            False\n",
       "Weekly_Sales    False\n",
       "Holiday_Flag    False\n",
       "Temperature     False\n",
       "Fuel_Price      False\n",
       "CPI             False\n",
       "Unemployment    False\n",
       "dtype: bool"
      ]
     },
     "execution_count": 21,
     "metadata": {},
     "output_type": "execute_result"
    }
   ],
   "source": [
    "#Handling missing values using .isnull().sum()\n",
    "missing_values = df.isnull().sum()\n",
    "print(\"Missing Values\")\n",
    "print(missing_values)\n",
    "\n",
    "df.isna().any()"
   ]
  },
  {
   "cell_type": "code",
   "execution_count": 15,
   "id": "35ffd165",
   "metadata": {},
   "outputs": [
    {
     "name": "stdout",
     "output_type": "stream",
     "text": [
      "Initial Statistics\n",
      "              Store        Date  Weekly_Sales  Holiday_Flag  Temperature  \\\n",
      "count   6435.000000        6435  6.435000e+03   6435.000000  6435.000000   \n",
      "unique          NaN         143           NaN           NaN          NaN   \n",
      "top             NaN  05-02-2010           NaN           NaN          NaN   \n",
      "freq            NaN          45           NaN           NaN          NaN   \n",
      "mean      23.000000         NaN  1.046965e+06      0.069930    60.663782   \n",
      "std       12.988182         NaN  5.643666e+05      0.255049    18.444933   \n",
      "min        1.000000         NaN  2.099862e+05      0.000000    -2.060000   \n",
      "25%       12.000000         NaN  5.533501e+05      0.000000    47.460000   \n",
      "50%       23.000000         NaN  9.607460e+05      0.000000    62.670000   \n",
      "75%       34.000000         NaN  1.420159e+06      0.000000    74.940000   \n",
      "max       45.000000         NaN  3.818686e+06      1.000000   100.140000   \n",
      "\n",
      "         Fuel_Price          CPI  Unemployment  \n",
      "count   6435.000000  6435.000000   6435.000000  \n",
      "unique          NaN          NaN           NaN  \n",
      "top             NaN          NaN           NaN  \n",
      "freq            NaN          NaN           NaN  \n",
      "mean       3.358607   171.578394      7.999151  \n",
      "std        0.459020    39.356712      1.875885  \n",
      "min        2.472000   126.064000      3.879000  \n",
      "25%        2.933000   131.735000      6.891000  \n",
      "50%        3.445000   182.616521      7.874000  \n",
      "75%        3.735000   212.743293      8.622000  \n",
      "max        4.468000   227.232807     14.313000  \n"
     ]
    }
   ],
   "source": [
    "#get initial statistics\n",
    "statistics = df.describe(include = 'all')\n",
    "print(\"Initial Statistics\")\n",
    "print(statistics)\n"
   ]
  },
  {
   "cell_type": "code",
   "execution_count": 16,
   "id": "6a56657d",
   "metadata": {},
   "outputs": [
    {
     "name": "stdout",
     "output_type": "stream",
     "text": [
      "Data Types of each column\n",
      "Store             int64\n",
      "Date             object\n",
      "Weekly_Sales    float64\n",
      "Holiday_Flag      int64\n",
      "Temperature     float64\n",
      "Fuel_Price      float64\n",
      "CPI             float64\n",
      "Unemployment    float64\n",
      "dtype: object\n"
     ]
    }
   ],
   "source": [
    "# getting varaible descriptions\n",
    "data_types = df.dtypes\n",
    "print(\"Data Types of each column\")\n",
    "print(data_types)"
   ]
  },
  {
   "cell_type": "code",
   "execution_count": 22,
   "id": "c765f103",
   "metadata": {},
   "outputs": [
    {
     "name": "stdout",
     "output_type": "stream",
     "text": [
      "\n",
      "Dimensions of the DataFrame (rows, columns):\n",
      "(6435, 8)\n"
     ]
    }
   ],
   "source": [
    "# Check the dimensions of the DataFrame\n",
    "dimensions = df.shape\n",
    "print(\"\\nDimensions of the DataFrame (rows, columns):\")\n",
    "print(dimensions)"
   ]
  },
  {
   "cell_type": "code",
   "execution_count": 23,
   "id": "02aaa0ac",
   "metadata": {},
   "outputs": [
    {
     "data": {
      "text/plain": [
       "(6435, 8)"
      ]
     },
     "execution_count": 23,
     "metadata": {},
     "output_type": "execute_result"
    }
   ],
   "source": []
  },
  {
   "cell_type": "code",
   "execution_count": 26,
   "id": "a2cc0d73",
   "metadata": {},
   "outputs": [
    {
     "name": "stdout",
     "output_type": "stream",
     "text": [
      "\n",
      "Summary of Variable Types:\n",
      "Character Variables: ['Date']\n",
      "Numeric Variables: ['Weekly_Sales', 'Temperature', 'Fuel_Price', 'CPI', 'Unemployment']\n",
      "Integer Variables: ['Store', 'Holiday_Flag']\n",
      "Boolean Variables: []\n"
     ]
    }
   ],
   "source": [
    "# Summarize variable types\n",
    "character_vars = df.select_dtypes(include=['object']).columns.tolist()  # Character variables\n",
    "numeric_vars = df.select_dtypes(include=['float64']).columns.tolist()    # Numeric variables\n",
    "integer_vars = df.select_dtypes(include=['int64']).columns.tolist()      # Integer variables\n",
    "boolean_vars = df.select_dtypes(include=['bool']).columns.tolist()        # Logical variables\n",
    "\n",
    "print(\"\\nSummary of Variable Types:\")\n",
    "print(f\"Character Variables: {character_vars}\")\n",
    "print(f\"Numeric Variables: {numeric_vars}\")\n",
    "print(f\"Integer Variables: {integer_vars}\")\n",
    "print(f\"Boolean Variables: {boolean_vars}\")"
   ]
  },
  {
   "cell_type": "code",
   "execution_count": null,
   "id": "59f8c035",
   "metadata": {},
   "outputs": [],
   "source": [
    "# Summarize variable types\n"
   ]
  }
 ],
 "metadata": {
  "kernelspec": {
   "display_name": "Python 3 (ipykernel)",
   "language": "python",
   "name": "python3"
  },
  "language_info": {
   "codemirror_mode": {
    "name": "ipython",
    "version": 3
   },
   "file_extension": ".py",
   "mimetype": "text/x-python",
   "name": "python",
   "nbconvert_exporter": "python",
   "pygments_lexer": "ipython3",
   "version": "3.10.12"
  }
 },
 "nbformat": 4,
 "nbformat_minor": 5
}
